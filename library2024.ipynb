{
  "nbformat": 4,
  "nbformat_minor": 0,
  "metadata": {
    "colab": {
      "provenance": []
    },
    "kernelspec": {
      "name": "python3",
      "display_name": "Python 3"
    },
    "language_info": {
      "name": "python"
    }
  },
  "cells": [
    {
      "cell_type": "markdown",
      "source": [
        "Google Drive와 연동해 Crawling 수행한 데이터 받기"
      ],
      "metadata": {
        "id": "oFMuaOyH_M1Z"
      }
    },
    {
      "cell_type": "code",
      "execution_count": 3,
      "metadata": {
        "colab": {
          "base_uri": "https://localhost:8080/"
        },
        "id": "lB7rCvZd5Hix",
        "outputId": "4839212d-7fe7-4261-b792-5481975cd24c"
      },
      "outputs": [
        {
          "output_type": "stream",
          "name": "stdout",
          "text": [
            "Mounted at /content/gdrive/\n"
          ]
        }
      ],
      "source": [
        "from google.colab import drive\n",
        "drive.mount('/content/gdrive/')"
      ]
    },
    {
      "cell_type": "markdown",
      "source": [
        "큰글, 큰글자, 큰글씨로 나누어 크롤링한 결과 데이터를 하나의 Data Frame으로 생성"
      ],
      "metadata": {
        "id": "qwfwVpHv_a80"
      }
    },
    {
      "cell_type": "code",
      "source": [
        "import pandas as pd\n",
        "import os\n",
        "import fnmatch\n",
        "df = pd.DataFrame()\n",
        "for filename in os.listdir('/content/gdrive/MyDrive/Library_2024'):\n",
        "  temp = pd.DataFrame()\n",
        "  if fnmatch.fnmatch(filename, 'GB_data_*.csv'):\n",
        "    print(filename)\n",
        "    temp = pd.read_csv('/content/gdrive/MyDrive/Library_2024/' + filename)\n",
        "    df = pd.concat([df, temp], ignore_index=True)\n",
        "print(df.head)\n"
      ],
      "metadata": {
        "id": "GQqO1Mrp6Iq0",
        "colab": {
          "base_uri": "https://localhost:8080/"
        },
        "outputId": "e4dc9ef2-7401-4720-ee7f-a090383fc329"
      },
      "execution_count": 4,
      "outputs": [
        {
          "output_type": "stream",
          "name": "stdout",
          "text": [
            "GB_data_큰글자.csv\n",
            "GB_data_큰글씨.csv\n",
            "GB_data_큰글씨_81.csv\n",
            "GB_data_큰글씨_91.csv\n",
            "GB_data_큰글씨_101.csv\n",
            "GB_data_큰글_1.csv\n",
            "GB_data_큰글_31.csv\n",
            "GB_data_큰글_51.csv\n",
            "GB_data_큰글_91.csv\n",
            "GB_data_큰글_101.csv\n",
            "GB_data_큰글_111.csv\n",
            "GB_data_큰글_141.csv\n",
            "<bound method NDFrame.head of       Unnamed: 0                                                  0  \\\n",
            "0              0  (원서발췌) 현대 영국의 산업공황 : 그 원인과 인민들의 삶에 미치는 영향 : 27...   \n",
            "1              0                             살변의 창 : 피의 노래 : [큰글도서]   \n",
            "2              0                              오늘도 냠냠냠 : [큰글도서]. 1-3   \n",
            "3              0                           파견자들 : 김초엽 장편소설 : [큰글도서]   \n",
            "4              0                      (현직 약사가 알려주는) 영양제 특강 : [큰글자책]   \n",
            "...          ...                                                ...   \n",
            "4919           0                         제3기인생, 디지털 날개를 달자 : [큰글도서]   \n",
            "4920           0                          아름다운 노후를 위한 정신건강 : [큰글도서]   \n",
            "4921           0                             새로 시작하는 제3기인생 : [큰글도서]   \n",
            "4922           0                                    인생의 선용 : [큰글도서]   \n",
            "4923           0                                       명상록 : [큰글도서]   \n",
            "\n",
            "                            1           2           3  \n",
            "0     미하일 투간바라놉스키 지음 ; 이건우 옮김    지식을만드는지식   [솔샘]종합자료실  \n",
            "1                      박성신 지음         북오션   [수유]종합자료실  \n",
            "2           조경규 글·그림 ; 방현선 사진        송송책방  [청소년]자료열람실  \n",
            "3                      김초엽 지음        퍼블리온   [수유]종합자료실  \n",
            "4                      염혜진 지음        더블 엔   [강북]종합자료실  \n",
            "...                       ...         ...         ...  \n",
            "4919                   김성준 지음  서울대학교출판문화원   [강북]종합자료실  \n",
            "4920                   조맹제 지음  서울대학교출판문화원   [강북]종합자료실  \n",
            "4921                   최성재 지음  서울대학교출판문화원   [강북]종합자료실  \n",
            "4922        존 러보크 지음 ; 한영환 옮김          범우   [강북]종합자료실  \n",
            "4923   마르쿠스 아우렐리우스 지음 ; 최현 옮김          범우   [강북]종합자료실  \n",
            "\n",
            "[4924 rows x 5 columns]>\n"
          ]
        }
      ]
    },
    {
      "cell_type": "markdown",
      "source": [
        "## seoul_df: 서울교육청 산하 도서관에 대해 크롤링된 도서관 장서 목록 데이터\n",
        "\n",
        "- 앱 제작 시 참고하기 위해 Drive로부터 데이터를 내려받음\n",
        "- 데이터 중 도서 <이어령의 마지막 수업>에 대한 항목만 찾아 별도의 파일로 생성해 저장한 후 공유, 활용함\n",
        "\n",
        "\n"
      ],
      "metadata": {
        "id": "vkWKuBek6f95"
      }
    },
    {
      "cell_type": "code",
      "source": [
        "seoul_df = pd.DataFrame()\n",
        "for filename in os.listdir('/content/gdrive/MyDrive/Library_2024'):\n",
        "  temp = pd.DataFrame()\n",
        "  if fnmatch.fnmatch(filename, 'data_*.csv'):\n",
        "    print(filename)\n",
        "    temp = pd.read_csv('/content/gdrive/MyDrive/Library_2024/' + filename)\n",
        "    seoul_df = pd.concat([seoul_df, temp], ignore_index=True)\n",
        "print(seoul_df.head)\n"
      ],
      "metadata": {
        "colab": {
          "base_uri": "https://localhost:8080/"
        },
        "id": "3TgJX-hs6Dvy",
        "outputId": "1f981848-0f57-4d4d-bff6-b838c24c8824"
      },
      "execution_count": 9,
      "outputs": [
        {
          "output_type": "stream",
          "name": "stdout",
          "text": [
            "data_큰글씨.csv\n",
            "data_큰글자.csv\n",
            "<bound method NDFrame.head of        Unnamed: 0                                                  0  \\\n",
            "0               0                  도서. (큰글씨) 인간 실격 = No longer human   \n",
            "1               0                         도서. (큰글씨) 위대한 개츠비 : [큰글씨책]   \n",
            "2               0                                     도서. (큰글씨) 1984   \n",
            "3               0                도서. (큰글씨) 어린 왕자 = the little prince   \n",
            "4               0                         도서. (큰글씨) 위대한 개츠비 : [큰글씨책]   \n",
            "...           ...                                                ...   \n",
            "29254           0  도서. 오늘부터 나를 돌보기로 했습니다 : 무사히 나이 들기 위하여 : 박현희 에세...   \n",
            "29255           0             도서. 나는 자꾸만 살고싶다 : 오일장 떠돌이 장수 안효숙의 희망통신   \n",
            "29256           0  도서. [큰글자책] 오늘부터 나를 돌보기로 했습니다 : 무사히 나이 들기 위하여, ...   \n",
            "29257           0              도서. 왕의투쟁 : 조선의 왕, 그 고독한 정치투쟁의 권력자. 2권   \n",
            "29258           0  도서. 진짜 게으른 사람이 쓴 게으름 탈출법 : 큰글자책 : 이 모든 것은 인생이 ...   \n",
            "\n",
            "                                                       1  \\\n",
            "0      저자: 다자이 오사무 지음 ;김소영 옮김 발행처: 더클래식 :미르북컴퍼니 발행연도:...   \n",
            "1      저자: 프랜시스 스콧 피츠제럴드 지음 ;이기선 옮김 발행처: 더클래식 :미르북컴퍼니...   \n",
            "2        저자: 조지 오웰 지음;정영수 옮김 발행처: 더클래식:미르북컴퍼니 발행연도: 2018   \n",
            "3      저자: 앙투안 드 생택쥐페리 지음 ;베스트트랜스 옮김 발행처: 더클래식 :미르북컴퍼...   \n",
            "4      저자: 프랜시스 스콧 피츠제럴드 지음 ;이기선 옮김 발행처: 더클래식 :미르북컴퍼니...   \n",
            "...                                                  ...   \n",
            "29254                     저자: 박현희 지음 발행처: 뜨인돌 발행연도: 2022   \n",
            "29255                      저자: 안효숙 지음 발행처: 점자 발행연도: 2009   \n",
            "29256                     저자: 박현희 지음 발행처: 뜨인돌 발행연도: 2022   \n",
            "29257                    저자: 지은이: 함규진 발행처: 점자 발행연도: 2009   \n",
            "29258                    저자: 지이 지음 발행처: 마인드빌딩 발행연도: 2020   \n",
            "\n",
            "                                                       2  \\\n",
            "0      ISBN: 9791159038310세트 9791159038433 자료형태: 도서 청...   \n",
            "1      ISBN: 9791159038310세트 9791159038358 자료형태: 도서 청...   \n",
            "2      ISBN: 9791159038310세트 9791159038471 자료형태: 도서 청...   \n",
            "3      ISBN: 9791159038310세트 9791159038334 자료형태: 도서 청...   \n",
            "4        ISBN: 9791159038358 자료형태: 도서 청구기호: 특808-ㄷ52ㄷ-12   \n",
            "...                                                  ...   \n",
            "29254     ISBN: 9788958078623 자료형태: 도서 청구기호: 특수818-ㅂ574ㅇ   \n",
            "29255      ISBN: 9788993793024 자료형태: 도서 청구기호: 큰818-ㅇ231ㄴ   \n",
            "29256     ISBN: 9788958078623 자료형태: 도서 청구기호: 큰글818-ㅂ574ㅋ   \n",
            "29257  ISBN: 9788993793437세트 9788993793420 자료형태: 도서 청...   \n",
            "29258      ISBN: 9791190015257 자료형태: 도서 청구기호: 큰818-ㅈ934ㅈ   \n",
            "\n",
            "                                         3  \n",
            "0            도서관 : 송파도서관 자료실 : [송파]2층 어문학실  \n",
            "1       도서관 : 정독도서관 자료실 : [정독]어문학족보실(2동1층)  \n",
            "2            도서관 : 송파도서관 자료실 : [송파]2층 어문학실  \n",
            "3            도서관 : 송파도서관 자료실 : [송파]2층 어문학실  \n",
            "4           도서관 : 용산도서관 자료실 : [용산]문헌실(큰글자)  \n",
            "...                                    ...  \n",
            "29254          도서관 : 강동도서관 자료실 : [강동]문헌정보실  \n",
            "29255  도서관 : 강남도서관 자료실 : [강남]1층 다누리(장애인서랑)  \n",
            "29256         도서관 : 강남도서관 자료실 : [강남]4층 다누리  \n",
            "29257  도서관 : 강남도서관 자료실 : [강남]1층 다누리(장애인서랑)  \n",
            "29258   도서관 : 마포평생학습관 아현분관 자료실 : [아현]큰글자도서  \n",
            "\n",
            "[29259 rows x 5 columns]>\n"
          ]
        }
      ]
    },
    {
      "cell_type": "code",
      "source": [
        "# seoul_df = seoul_df.drop(['Unnamed: 0'], axis=1)\n",
        "print(seoul_df.columns)\n",
        "seoul_df.columns = ['title', 'authorNpublisher', 'code', 'location']\n",
        "print(seoul_df.columns)\n",
        "seoul_df = seoul_df.drop_duplicates()\n",
        "s_df = seoul_df[seoul_df[\"title\"].str.contains(\"이어령의 마지막 수업\")]\n",
        "print(s_df)\n",
        "s_df.to_csv(\"seoul_df.csv\")"
      ],
      "metadata": {
        "colab": {
          "base_uri": "https://localhost:8080/"
        },
        "id": "sLuahJwp6dG7",
        "outputId": "c97e2fca-ae14-48a6-e890-45f89cd86e50"
      },
      "execution_count": 14,
      "outputs": [
        {
          "output_type": "stream",
          "name": "stdout",
          "text": [
            "Index(['title', 'authorNpublisher', 'code', 'location'], dtype='object')\n",
            "Index(['title', 'authorNpublisher', 'code', 'location'], dtype='object')\n",
            "                           title                authorNpublisher  \\\n",
            "783      도서. [큰글자도서] 이어령의 마지막 수업  저자: 김지수 지음 발행처: 열림원 발행연도: 2022   \n",
            "7004      도서. 이어령의 마지막 수업 : 큰글자책  저자: 김지수 지음 발행처: 열림원 발행연도: 2022   \n",
            "16572  도서. 이어령의 마지막 수업 : [큰글자도서]  저자: 김지수 지음 발행처: 열림원 발행연도: 2022   \n",
            "16729  도서. 이어령의 마지막 수업 : [큰글자도서]  저자: 김지수 지음 발행처: 열림원 발행연도: 2022   \n",
            "17018  도서. 이어령의 마지막 수업 : [큰글자도서]  저자: 김지수 지음 발행처: 열림원 발행연도: 2022   \n",
            "17393  도서. 이어령의 마지막 수업 : [큰글자도서]  저자: 김지수 지음 발행처: 열림원 발행연도: 2022   \n",
            "27310     도서. 이어령의 마지막 수업 : 큰글자책  저자: 김지수 지음 발행처: 열림원 발행연도: 2022   \n",
            "27336     도서. 이어령의 마지막 수업 : 큰글자책  저자: 김지수 지음 발행처: 열림원 발행연도: 2022   \n",
            "27356     도서. 이어령의 마지막 수업 : 큰글자책  저자: 김지수 지음 발행처: 열림원 발행연도: 2022   \n",
            "27358     도서. 이어령의 마지막 수업 : 큰글자책  저자: 김지수 지음 발행처: 열림원 발행연도: 2022   \n",
            "27373     도서. 이어령의 마지막 수업 : 큰글자책  저자: 김지수 지음 발행처: 열림원 발행연도: 2022   \n",
            "27380     도서. 이어령의 마지막 수업 : 큰글자책  저자: 김지수 지음 발행처: 열림원 발행연도: 2022   \n",
            "27385     도서. 이어령의 마지막 수업 : 큰글자책  저자: 김지수 지음 발행처: 열림원 발행연도: 2022   \n",
            "28163     도서. 이어령의 마지막 수업[큰글자도서]  저자: 김지수 지음 발행처: 열림원 발행연도: 2022   \n",
            "\n",
            "                                                   code  \\\n",
            "783      ISBN: 9791170401261 자료형태: 도서 청구기호: 큰글104-ㄱ938이   \n",
            "7004     ISBN: 9791170401261 자료형태: 도서 청구기호: 큰글104-ㄱ938ㅇ   \n",
            "16572     ISBN: 9791170401261 자료형태: 도서 청구기호: 특104-ㄱ938ㅇ   \n",
            "16729     ISBN: 9791170401261 자료형태: 도서 청구기호: 큰104-ㄱ938ㅇ   \n",
            "17018     ISBN: 9791170401261 자료형태: 도서 청구기호: 큰104-ㄱ938ㅇ   \n",
            "17393     ISBN: 9791170401261 자료형태: 도서 청구기호: 큰104-ㄱ938ㅇ   \n",
            "27310     ISBN: 9791170401261 자료형태: 도서 청구기호: 장104-ㄱ938ㅇ   \n",
            "27336     ISBN: 9791170401261 자료형태: 도서 청구기호: 큰104-ㄱ938ㅇ   \n",
            "27356     ISBN: 9791170401261 자료형태: 도서 청구기호: 큰104-ㄱ938ㅇ   \n",
            "27358    ISBN: 9791170401261 자료형태: 도서 청구기호: 특수104-ㄱ938ㅇ   \n",
            "27373     ISBN: 9791170401261 자료형태: 도서 청구기호: 특104-ㄱ938이   \n",
            "27380    ISBN: 9791170401261 자료형태: 도서 청구기호: 큰글104-ㄱ938ㅇ   \n",
            "27385  ISBN: 9791170401261 자료형태: 도서 청구기호: 큰글001.3-ㄱ938이   \n",
            "28163  ISBN: 9791170401261 자료형태: 도서 청구기호: 큰글199.1-ㄱ938ㅇ   \n",
            "\n",
            "                                       location  \n",
            "783               도서관 : 고덕평생학습관 자료실 : [고덕]문헌정보실  \n",
            "7004              도서관 : 송파도서관 자료실 : [송파]3층 인사자실  \n",
            "16572            도서관 : 고척도서관 자료실 : [고척]종합자료(2층)  \n",
            "16729             도서관 : 종로도서관 자료실 : [종로]인문사회과학실  \n",
            "17018               도서관 : 구로도서관 자료실 : [구로]종합자료실  \n",
            "17393              도서관 : 강남도서관 자료실 : [강남]4층 다누리  \n",
            "27310           도서관 : 동작도서관 자료실 : [동작]종합자료실(2층)  \n",
            "27336        도서관 : 마포평생학습관 아현분관 자료실 : [아현]큰글자도서  \n",
            "27356            도서관 : 양천도서관 자료실 : [양천]책누리실(2층)  \n",
            "27358               도서관 : 강동도서관 자료실 : [강동]문헌정보실  \n",
            "27373            도서관 : 용산도서관 자료실 : [용산]문헌실(큰글자)  \n",
            "27380          도서관 : 정독도서관 자료실 : [정독]인사자실(2동2층)  \n",
            "27385        도서관 : 동대문도서관 자료실 : [동대문]종합자료1실(4층)  \n",
            "28163  도서관 : 개포도서관 자료실 : [개포]큰글자도서(문헌정보실)(대출불가)  \n"
          ]
        }
      ]
    },
    {
      "cell_type": "markdown",
      "source": [
        "* 'Unnamed: 0' 열은 데이터 수집 당시 생성된 인덱스로 필요하지 않아서 열을 삭제\n",
        "* 열의 이름은 각각 내용에 맞추어 ['title', 'author', 'publisher', 'location']으로 지정함\n",
        "* '큰글', '큰글자', '큰글씨' 세 가지 검색 키워드 중 중복되는 도서를 삭제해 활용할 수 있는 데이터를 완성"
      ],
      "metadata": {
        "id": "VcdNgqmPAcMn"
      }
    },
    {
      "cell_type": "code",
      "source": [
        "df = df.drop(['Unnamed: 0'], axis=1)\n",
        "print(df.columns)\n",
        "df.columns = ['title', 'author', 'publisher', 'location']\n",
        "print(df.columns)\n",
        "df = df.drop_duplicates()\n",
        "print(df)"
      ],
      "metadata": {
        "colab": {
          "base_uri": "https://localhost:8080/"
        },
        "id": "bpeC3mJW6vcu",
        "outputId": "90a008e9-4df2-4d89-94ed-76b23bb80dd4"
      },
      "execution_count": 5,
      "outputs": [
        {
          "output_type": "stream",
          "name": "stdout",
          "text": [
            "Index(['0', '1', '2', '3'], dtype='object')\n",
            "Index(['title', 'author', 'publisher', 'location'], dtype='object')\n",
            "                                                  title  \\\n",
            "0     (원서발췌) 현대 영국의 산업공황 : 그 원인과 인민들의 삶에 미치는 영향 : 27...   \n",
            "1                                살변의 창 : 피의 노래 : [큰글도서]   \n",
            "2                                 오늘도 냠냠냠 : [큰글도서]. 1-3   \n",
            "3                              파견자들 : 김초엽 장편소설 : [큰글도서]   \n",
            "4                         (현직 약사가 알려주는) 영양제 특강 : [큰글자책]   \n",
            "...                                                 ...   \n",
            "4812                                조선왕들의 생로병사 : [큰글도서]   \n",
            "4815                            (조병식 원장의) 자연치유 : [큰글도서]   \n",
            "4818                            거친 음식이 사람을 살린다 : [큰글도서]   \n",
            "4902                                          (큰글) 民事法典   \n",
            "4903                                           (큰글) 憲法典   \n",
            "\n",
            "                       author publisher    location  \n",
            "0     미하일 투간바라놉스키 지음 ; 이건우 옮김  지식을만드는지식   [솔샘]종합자료실  \n",
            "1                      박성신 지음       북오션   [수유]종합자료실  \n",
            "2           조경규 글·그림 ; 방현선 사진      송송책방  [청소년]자료열람실  \n",
            "3                      김초엽 지음      퍼블리온   [수유]종합자료실  \n",
            "4                      염혜진 지음      더블 엔   [강북]종합자료실  \n",
            "...                       ...       ...         ...  \n",
            "4812                   강영민 지음      BF북스   [미아]자료열람실  \n",
            "4815                   조병식 지음      BF북스   [미아]자료열람실  \n",
            "4818                   이원종 지음      BF북스   [미아]자료열람실  \n",
            "4902                [법률출판사 편]     법률출판사   [강북]종합자료실  \n",
            "4903                [법률출판사 편]     법률출판사   [강북]종합자료실  \n",
            "\n",
            "[1877 rows x 4 columns]\n"
          ]
        }
      ]
    },
    {
      "cell_type": "code",
      "source": [
        "df_tmp = df[df['title'].str.contains('이어령', na=False)]\n",
        "print(df_tmp)"
      ],
      "metadata": {
        "colab": {
          "base_uri": "https://localhost:8080/"
        },
        "id": "PxF16vNC2fgP",
        "outputId": "07e52132-1d61-461b-c018-a3b4638c79c0"
      },
      "execution_count": 8,
      "outputs": [
        {
          "output_type": "stream",
          "name": "stdout",
          "text": [
            "                    title  author publisher    location\n",
            "296  이어령의 마지막 수업 : [큰글도서]  김지수 지음       열림원  [청소년]자료열람실\n",
            "335  이어령의 마지막 수업 : [큰글도서]  김지수 지음       열림원   [강북]종합자료실\n"
          ]
        }
      ]
    },
    {
      "cell_type": "code",
      "source": [
        "df['location'].unique()\n",
        "df_res = df[df['location'] == '[강북]종합자료실']\n",
        "print(df_res)\n",
        "df_res.to_csv('GB_data.csv')"
      ],
      "metadata": {
        "colab": {
          "base_uri": "https://localhost:8080/"
        },
        "id": "Cm9BDG7xHy_N",
        "outputId": "eac28378-e0c5-4976-8d7a-268ce86446a1"
      },
      "execution_count": null,
      "outputs": [
        {
          "output_type": "stream",
          "name": "stdout",
          "text": [
            "                                               title                author  \\\n",
            "4                      (현직 약사가 알려주는) 영양제 특강 : [큰글자책]                염혜진 지음   \n",
            "33                            탱크 : 김희재 장편소설 : [큰글도서]                김희재 지음   \n",
            "34                           백세까지 총명하게 : 뇌 건강 인지예술치료  명지병원 백세총명치매관리지원센터 지음   \n",
            "35    집에서 혼자 죽기를 권하다 : 건강하게 살다 가장 편안하게 죽는 법 : [큰글도서]   우에노 지즈코 지음 ; 이주희 옮김   \n",
            "36       나에게 고맙다 : 가장 흔한 말, 정작 나에게 하지 못한 인사 : [큰글도서]                글: 전승환   \n",
            "...                                              ...                   ...   \n",
            "4288             이효석 단편문학 : 20세기 한국 단편문학 읽다 : [큰글도서]              지은이: 이효석   \n",
            "4289                                 미디어와 법 : [큰글도서]       지은이: 문재완 [외] 지음   \n",
            "4290                              (영어회화를 위한) 큰글씨 영단어       저자: The Calling   \n",
            "4902                                       (큰글) 民事法典             [법률출판사 편]   \n",
            "4903                                        (큰글) 憲法典             [법률출판사 편]   \n",
            "\n",
            "                      publisher   location  \n",
            "4                          더블 엔  [강북]종합자료실  \n",
            "33                        한겨레출판  [강북]종합자료실  \n",
            "34                         힐링앤북  [강북]종합자료실  \n",
            "35                         동양북스  [강북]종합자료실  \n",
            "36                         허밍버드  [강북]종합자료실  \n",
            "...                         ...        ...  \n",
            "4288                       정씨책방  [강북]종합자료실  \n",
            "4289                   커뮤니케이션북스  [강북]종합자료실  \n",
            "4290  Samyoung Publishing House  [강북]종합자료실  \n",
            "4902                      법률출판사  [강북]종합자료실  \n",
            "4903                      법률출판사  [강북]종합자료실  \n",
            "\n",
            "[714 rows x 4 columns]\n"
          ]
        }
      ]
    },
    {
      "cell_type": "code",
      "source": [],
      "metadata": {
        "id": "NID9U-kUSLIz"
      },
      "execution_count": null,
      "outputs": []
    },
    {
      "cell_type": "markdown",
      "source": [],
      "metadata": {
        "id": "JCRiaSoR6XuB"
      }
    }
  ]
}